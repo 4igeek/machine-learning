{
 "cells": [
  {
   "cell_type": "markdown",
   "metadata": {
    "colab_type": "text",
    "id": "rNdWfPXCjTjY"
   },
   "source": [
    "# Improving Data Quality\n",
    "When we're dealing with machine learning, the quality of our outputs is going to be directly proportional to the quality of our data. Not only that the data has meaningful information in it that we can gain insight from, but also that it is in the correct format for our machine learning model. Machine learning is essentially matrix multiplication on a massive scale and as such we need to ensure our models can carry out these calculations by ensuring that we \"feed\" them useful information.\n",
    "\n",
    "In this notebook, I'm going to work through an example where I improve the quality of a raw dataset. \n",
    "\n",
    "Specifically I'm going to:\n",
    "* Resolve missing values\n",
    "* Convert string dates to DateTime format\n",
    "* Create one-hot encodings for relevant features\n",
    "* Understand temporal feature conversions\n",
    "\n",
    "## Install dependencies\n",
    "The first thing we're going to do is import all of the required dependencies for these tasks."
   ]
  },
  {
   "cell_type": "code",
   "execution_count": 92,
   "metadata": {},
   "outputs": [],
   "source": [
    "import subprocess\n",
    "\n",
    "# Function to run shell commands silently\n",
    "def run_command_silent(command):\n",
    "    try:\n",
    "        subprocess.run(command, shell=True, stdout=subprocess.DEVNULL, stderr=subprocess.DEVNULL, check=True)\n",
    "    except subprocess.CalledProcessError as e:\n",
    "        print(f\"Failed to run command: {command}\")\n",
    "\n",
    "# Run pip install commands silently\n",
    "run_command_silent(\"pip install tensorflow\")\n",
    "run_command_silent(\"pip install pandas\")\n",
    "run_command_silent(\"pip install numpy\")\n",
    "run_command_silent(\"pip install datetime\")\n",
    "run_command_silent(\"pip install matplotlib\")\n",
    "run_command_silent(\"pip install seaborn\")\n"
   ]
  },
  {
   "cell_type": "markdown",
   "metadata": {
    "colab_type": "text",
    "id": "VxyBFc_kKazA"
   },
   "source": [
    "Start by importing the necessary libraries for this lab."
   ]
  },
  {
   "cell_type": "markdown",
   "metadata": {},
   "source": [
    "### Import Libraries\n",
    "Now that we've installed all of our dependencies, we need to import them into the program."
   ]
  },
  {
   "cell_type": "code",
   "execution_count": 93,
   "metadata": {},
   "outputs": [
    {
     "name": "stdout",
     "output_type": "stream",
     "text": [
      "TensorFlow version:  2.16.2\n"
     ]
    }
   ],
   "source": [
    "# Importing necessary tensorflow library and printing the TF version.\n",
    "import tensorflow as tf\n",
    "print(\"TensorFlow version: \",tf.version.VERSION)\n",
    "import os\n",
    "import pandas as pd  # First, we'll import Pandas, a data processing and CSV file I/O library\n",
    "import numpy as np\n",
    "from datetime import datetime\n",
    "import matplotlib.pyplot as plt\n",
    "import seaborn as sns\n",
    "%matplotlib inline"
   ]
  },
  {
   "cell_type": "markdown",
   "metadata": {},
   "source": [
    "### Read Dataset into a Pandas DataFrame"
   ]
  },
  {
   "cell_type": "markdown",
   "metadata": {
    "colab_type": "text",
    "id": "lM6-n6xntv3t"
   },
   "source": [
    "Next, let's read in the dataset just copied from the cloud storage bucket and create a Pandas DataFrame.  We also add a Pandas .head() function to show you the top 5 rows of data in the DataFrame. Head() and Tail() are \"best-practice\" functions used to investigate datasets.  "
   ]
  },
  {
   "cell_type": "code",
   "execution_count": 94,
   "metadata": {
    "colab": {
     "base_uri": "https://localhost:8080/",
     "height": 222
    },
    "colab_type": "code",
    "id": "REZ57BXCLdfG",
    "outputId": "a6ef2eda-c7eb-4e2d-92e4-e7fcaa20b0af"
   },
   "outputs": [
    {
     "data": {
      "text/html": [
       "<div>\n",
       "<style scoped>\n",
       "    .dataframe tbody tr th:only-of-type {\n",
       "        vertical-align: middle;\n",
       "    }\n",
       "\n",
       "    .dataframe tbody tr th {\n",
       "        vertical-align: top;\n",
       "    }\n",
       "\n",
       "    .dataframe thead th {\n",
       "        text-align: right;\n",
       "    }\n",
       "</style>\n",
       "<table border=\"1\" class=\"dataframe\">\n",
       "  <thead>\n",
       "    <tr style=\"text-align: right;\">\n",
       "      <th></th>\n",
       "      <th>Date</th>\n",
       "      <th>Zip Code</th>\n",
       "      <th>Model Year</th>\n",
       "      <th>Fuel</th>\n",
       "      <th>Make</th>\n",
       "      <th>Light_Duty</th>\n",
       "      <th>Vehicles</th>\n",
       "    </tr>\n",
       "  </thead>\n",
       "  <tbody>\n",
       "    <tr>\n",
       "      <th>0</th>\n",
       "      <td>10/1/2018</td>\n",
       "      <td>90000.0</td>\n",
       "      <td>2006</td>\n",
       "      <td>Gasoline</td>\n",
       "      <td>OTHER/UNK</td>\n",
       "      <td>NaN</td>\n",
       "      <td>1.0</td>\n",
       "    </tr>\n",
       "    <tr>\n",
       "      <th>1</th>\n",
       "      <td>10/1/2018</td>\n",
       "      <td>NaN</td>\n",
       "      <td>2014</td>\n",
       "      <td>Gasoline</td>\n",
       "      <td>NaN</td>\n",
       "      <td>Yes</td>\n",
       "      <td>1.0</td>\n",
       "    </tr>\n",
       "    <tr>\n",
       "      <th>2</th>\n",
       "      <td>NaN</td>\n",
       "      <td>90000.0</td>\n",
       "      <td>NaN</td>\n",
       "      <td>Gasoline</td>\n",
       "      <td>OTHER/UNK</td>\n",
       "      <td>Yes</td>\n",
       "      <td>NaN</td>\n",
       "    </tr>\n",
       "    <tr>\n",
       "      <th>3</th>\n",
       "      <td>10/1/2018</td>\n",
       "      <td>90000.0</td>\n",
       "      <td>2017</td>\n",
       "      <td>Gasoline</td>\n",
       "      <td>OTHER/UNK</td>\n",
       "      <td>Yes</td>\n",
       "      <td>1.0</td>\n",
       "    </tr>\n",
       "    <tr>\n",
       "      <th>4</th>\n",
       "      <td>10/1/2018</td>\n",
       "      <td>90000.0</td>\n",
       "      <td>&lt;2006</td>\n",
       "      <td>Diesel and Diesel Hybrid</td>\n",
       "      <td>OTHER/UNK</td>\n",
       "      <td>No</td>\n",
       "      <td>55.0</td>\n",
       "    </tr>\n",
       "  </tbody>\n",
       "</table>\n",
       "</div>"
      ],
      "text/plain": [
       "        Date  Zip Code Model Year                      Fuel       Make  \\\n",
       "0  10/1/2018   90000.0       2006                  Gasoline  OTHER/UNK   \n",
       "1  10/1/2018       NaN       2014                  Gasoline        NaN   \n",
       "2        NaN   90000.0        NaN                  Gasoline  OTHER/UNK   \n",
       "3  10/1/2018   90000.0       2017                  Gasoline  OTHER/UNK   \n",
       "4  10/1/2018   90000.0      <2006  Diesel and Diesel Hybrid  OTHER/UNK   \n",
       "\n",
       "  Light_Duty  Vehicles  \n",
       "0        NaN       1.0  \n",
       "1        Yes       1.0  \n",
       "2        Yes       NaN  \n",
       "3        Yes       1.0  \n",
       "4         No      55.0  "
      ]
     },
     "execution_count": 94,
     "metadata": {},
     "output_type": "execute_result"
    }
   ],
   "source": [
    "df_transport = pd.read_csv('./data/untidy_vehicle_data_toy.csv')\n",
    "df_transport.head() # Output the first five rows."
   ]
  },
  {
   "cell_type": "markdown",
   "metadata": {},
   "source": [
    "### DataFrame Column Data Types\n",
    "DataFrames are like spreadsheets in that they contain entries (or records) of \"mixed\" (heterogenous) data types. Some columns contain integers, some contain float values, some strings, some boolean etc.\n",
    "\n",
    "CSV files don't contain metadata that would allow us to know what types of data are stored in each column but pandas (one of the libraries that we're using) infers this information for us.\n",
    "\n",
    "Let's take a look at what sort of data is in our DataFrame"
   ]
  },
  {
   "cell_type": "code",
   "execution_count": 95,
   "metadata": {},
   "outputs": [
    {
     "name": "stdout",
     "output_type": "stream",
     "text": [
      "<class 'pandas.core.frame.DataFrame'>\n",
      "RangeIndex: 499 entries, 0 to 498\n",
      "Data columns (total 7 columns):\n",
      " #   Column      Non-Null Count  Dtype  \n",
      "---  ------      --------------  -----  \n",
      " 0   Date        497 non-null    object \n",
      " 1   Zip Code    497 non-null    float64\n",
      " 2   Model Year  497 non-null    object \n",
      " 3   Fuel        497 non-null    object \n",
      " 4   Make        496 non-null    object \n",
      " 5   Light_Duty  496 non-null    object \n",
      " 6   Vehicles    496 non-null    float64\n",
      "dtypes: float64(2), object(5)\n",
      "memory usage: 27.4+ KB\n"
     ]
    }
   ],
   "source": [
    "df_transport.info()"
   ]
  },
  {
   "cell_type": "markdown",
   "metadata": {},
   "source": [
    "We can see that we have 6 string objects (Denoted by *object* in the output above) and one float object.\n",
    "\n",
    "We can print out the first and last five rows of each column which will allow us to clearly see these data types and where they are in the DataFrame."
   ]
  },
  {
   "cell_type": "code",
   "execution_count": 96,
   "metadata": {},
   "outputs": [
    {
     "name": "stdout",
     "output_type": "stream",
     "text": [
      "          Date  Zip Code Model Year                      Fuel       Make  \\\n",
      "0    10/1/2018   90000.0       2006                  Gasoline  OTHER/UNK   \n",
      "1    10/1/2018       NaN       2014                  Gasoline        NaN   \n",
      "2          NaN   90000.0        NaN                  Gasoline  OTHER/UNK   \n",
      "3    10/1/2018   90000.0       2017                  Gasoline  OTHER/UNK   \n",
      "4    10/1/2018   90000.0      <2006  Diesel and Diesel Hybrid  OTHER/UNK   \n",
      "..         ...       ...        ...                       ...        ...   \n",
      "494  12/3/2018   90002.0       2010                  Gasoline     Type_I   \n",
      "495  12/4/2018   90002.0       2010                  Gasoline     Type_B   \n",
      "496  12/5/2018   90002.0       2010                  Gasoline     Type_C   \n",
      "497  12/6/2018   90002.0       2010                  Gasoline     Type_J   \n",
      "498  12/7/2018   90002.0       2010                  Gasoline     Type_J   \n",
      "\n",
      "    Light_Duty  Vehicles  \n",
      "0          NaN       1.0  \n",
      "1          Yes       1.0  \n",
      "2          Yes       NaN  \n",
      "3          Yes       1.0  \n",
      "4           No      55.0  \n",
      "..         ...       ...  \n",
      "494        Yes      11.0  \n",
      "495        Yes      58.0  \n",
      "496        Yes      45.0  \n",
      "497        Yes      82.0  \n",
      "498        Yes      12.0  \n",
      "\n",
      "[499 rows x 7 columns]\n"
     ]
    }
   ],
   "source": [
    "print(df_transport)"
   ]
  },
  {
   "cell_type": "markdown",
   "metadata": {},
   "source": [
    "### Summary Statistics \n",
    "Now that we've got our DataFrame loaded into the notebook, we can use describe() to see a summary of the numerical data in the DataFrame. We need to do this because we're interested in the various statistical measures relating to those values."
   ]
  },
  {
   "cell_type": "code",
   "execution_count": 97,
   "metadata": {},
   "outputs": [
    {
     "data": {
      "text/html": [
       "<div>\n",
       "<style scoped>\n",
       "    .dataframe tbody tr th:only-of-type {\n",
       "        vertical-align: middle;\n",
       "    }\n",
       "\n",
       "    .dataframe tbody tr th {\n",
       "        vertical-align: top;\n",
       "    }\n",
       "\n",
       "    .dataframe thead th {\n",
       "        text-align: right;\n",
       "    }\n",
       "</style>\n",
       "<table border=\"1\" class=\"dataframe\">\n",
       "  <thead>\n",
       "    <tr style=\"text-align: right;\">\n",
       "      <th></th>\n",
       "      <th>Zip Code</th>\n",
       "      <th>Vehicles</th>\n",
       "    </tr>\n",
       "  </thead>\n",
       "  <tbody>\n",
       "    <tr>\n",
       "      <th>count</th>\n",
       "      <td>497.00000</td>\n",
       "      <td>496.000000</td>\n",
       "    </tr>\n",
       "    <tr>\n",
       "      <th>mean</th>\n",
       "      <td>89838.23340</td>\n",
       "      <td>74.512097</td>\n",
       "    </tr>\n",
       "    <tr>\n",
       "      <th>std</th>\n",
       "      <td>3633.35609</td>\n",
       "      <td>243.839871</td>\n",
       "    </tr>\n",
       "    <tr>\n",
       "      <th>min</th>\n",
       "      <td>9001.00000</td>\n",
       "      <td>1.000000</td>\n",
       "    </tr>\n",
       "    <tr>\n",
       "      <th>25%</th>\n",
       "      <td>90001.00000</td>\n",
       "      <td>14.000000</td>\n",
       "    </tr>\n",
       "    <tr>\n",
       "      <th>50%</th>\n",
       "      <td>90001.00000</td>\n",
       "      <td>25.000000</td>\n",
       "    </tr>\n",
       "    <tr>\n",
       "      <th>75%</th>\n",
       "      <td>90001.00000</td>\n",
       "      <td>56.250000</td>\n",
       "    </tr>\n",
       "    <tr>\n",
       "      <th>max</th>\n",
       "      <td>90002.00000</td>\n",
       "      <td>3178.000000</td>\n",
       "    </tr>\n",
       "  </tbody>\n",
       "</table>\n",
       "</div>"
      ],
      "text/plain": [
       "          Zip Code     Vehicles\n",
       "count    497.00000   496.000000\n",
       "mean   89838.23340    74.512097\n",
       "std     3633.35609   243.839871\n",
       "min     9001.00000     1.000000\n",
       "25%    90001.00000    14.000000\n",
       "50%    90001.00000    25.000000\n",
       "75%    90001.00000    56.250000\n",
       "max    90002.00000  3178.000000"
      ]
     },
     "execution_count": 97,
     "metadata": {},
     "output_type": "execute_result"
    }
   ],
   "source": [
    "df_transport.describe()"
   ]
  },
  {
   "cell_type": "markdown",
   "metadata": {},
   "source": [
    "We can learn a little more about the data by using the groupby() function."
   ]
  },
  {
   "cell_type": "code",
   "execution_count": 98,
   "metadata": {},
   "outputs": [
    {
     "data": {
      "text/html": [
       "<div>\n",
       "<style scoped>\n",
       "    .dataframe tbody tr th:only-of-type {\n",
       "        vertical-align: middle;\n",
       "    }\n",
       "\n",
       "    .dataframe tbody tr th {\n",
       "        vertical-align: top;\n",
       "    }\n",
       "\n",
       "    .dataframe thead th {\n",
       "        text-align: right;\n",
       "    }\n",
       "</style>\n",
       "<table border=\"1\" class=\"dataframe\">\n",
       "  <thead>\n",
       "    <tr style=\"text-align: right;\">\n",
       "      <th></th>\n",
       "      <th>Date</th>\n",
       "      <th>Zip Code</th>\n",
       "      <th>Model Year</th>\n",
       "      <th>Make</th>\n",
       "      <th>Light_Duty</th>\n",
       "      <th>Vehicles</th>\n",
       "    </tr>\n",
       "    <tr>\n",
       "      <th>Fuel</th>\n",
       "      <th></th>\n",
       "      <th></th>\n",
       "      <th></th>\n",
       "      <th></th>\n",
       "      <th></th>\n",
       "      <th></th>\n",
       "    </tr>\n",
       "  </thead>\n",
       "  <tbody>\n",
       "    <tr>\n",
       "      <th>Battery Electric</th>\n",
       "      <td>10/1/2018</td>\n",
       "      <td>90000.0</td>\n",
       "      <td>&lt;2006</td>\n",
       "      <td>OTHER/UNK</td>\n",
       "      <td>No</td>\n",
       "      <td>4.0</td>\n",
       "    </tr>\n",
       "    <tr>\n",
       "      <th>Diesel and Diesel Hybrid</th>\n",
       "      <td>10/1/2018</td>\n",
       "      <td>90000.0</td>\n",
       "      <td>&lt;2006</td>\n",
       "      <td>OTHER/UNK</td>\n",
       "      <td>No</td>\n",
       "      <td>55.0</td>\n",
       "    </tr>\n",
       "    <tr>\n",
       "      <th>Flex-Fuel</th>\n",
       "      <td>10/14/2018</td>\n",
       "      <td>90001.0</td>\n",
       "      <td>2007</td>\n",
       "      <td>Type_A</td>\n",
       "      <td>Yes</td>\n",
       "      <td>78.0</td>\n",
       "    </tr>\n",
       "    <tr>\n",
       "      <th>Gasoline</th>\n",
       "      <td>10/1/2018</td>\n",
       "      <td>90000.0</td>\n",
       "      <td>2006</td>\n",
       "      <td>OTHER/UNK</td>\n",
       "      <td>Yes</td>\n",
       "      <td>1.0</td>\n",
       "    </tr>\n",
       "    <tr>\n",
       "      <th>Hybrid Gasoline</th>\n",
       "      <td>10/24/2018</td>\n",
       "      <td>90001.0</td>\n",
       "      <td>2009</td>\n",
       "      <td>OTHER/UNK</td>\n",
       "      <td>Yes</td>\n",
       "      <td>18.0</td>\n",
       "    </tr>\n",
       "    <tr>\n",
       "      <th>Natural Gas</th>\n",
       "      <td>10/25/2018</td>\n",
       "      <td>90001.0</td>\n",
       "      <td>2009</td>\n",
       "      <td>OTHER/UNK</td>\n",
       "      <td>No</td>\n",
       "      <td>2.0</td>\n",
       "    </tr>\n",
       "    <tr>\n",
       "      <th>Other</th>\n",
       "      <td>10/8/2018</td>\n",
       "      <td>90000.0</td>\n",
       "      <td>&lt;2006</td>\n",
       "      <td>OTHER/UNK</td>\n",
       "      <td>Yes</td>\n",
       "      <td>6.0</td>\n",
       "    </tr>\n",
       "    <tr>\n",
       "      <th>Plug-in Hybrid</th>\n",
       "      <td>11/2/2018</td>\n",
       "      <td>90001.0</td>\n",
       "      <td>2012</td>\n",
       "      <td>OTHER/UNK</td>\n",
       "      <td>Yes</td>\n",
       "      <td>1.0</td>\n",
       "    </tr>\n",
       "  </tbody>\n",
       "</table>\n",
       "</div>"
      ],
      "text/plain": [
       "                                Date  Zip Code Model Year       Make  \\\n",
       "Fuel                                                                   \n",
       "Battery Electric           10/1/2018   90000.0      <2006  OTHER/UNK   \n",
       "Diesel and Diesel Hybrid   10/1/2018   90000.0      <2006  OTHER/UNK   \n",
       "Flex-Fuel                 10/14/2018   90001.0       2007     Type_A   \n",
       "Gasoline                   10/1/2018   90000.0       2006  OTHER/UNK   \n",
       "Hybrid Gasoline           10/24/2018   90001.0       2009  OTHER/UNK   \n",
       "Natural Gas               10/25/2018   90001.0       2009  OTHER/UNK   \n",
       "Other                      10/8/2018   90000.0      <2006  OTHER/UNK   \n",
       "Plug-in Hybrid             11/2/2018   90001.0       2012  OTHER/UNK   \n",
       "\n",
       "                         Light_Duty  Vehicles  \n",
       "Fuel                                           \n",
       "Battery Electric                 No       4.0  \n",
       "Diesel and Diesel Hybrid         No      55.0  \n",
       "Flex-Fuel                       Yes      78.0  \n",
       "Gasoline                        Yes       1.0  \n",
       "Hybrid Gasoline                 Yes      18.0  \n",
       "Natural Gas                      No       2.0  \n",
       "Other                           Yes       6.0  \n",
       "Plug-in Hybrid                  Yes       1.0  "
      ]
     },
     "execution_count": 98,
     "metadata": {},
     "output_type": "execute_result"
    }
   ],
   "source": [
    "df_transport.groupby('Fuel').first() # Get the first entry for each month. "
   ]
  },
  {
   "cell_type": "markdown",
   "metadata": {},
   "source": [
    "#### Checking for Missing Values\n",
    "\n",
    "Now is the time that we need to figure out if the DataFrame has any missing values. We can't send NULL values to an ML model and as such this step is really important. \n",
    "\n",
    "*Note: Pandas recognises both empty cells and NaN types as missing values.*\n",
    "\n",
    "Let's take a look at all the null values (for all features) in the DataFrame."
   ]
  },
  {
   "cell_type": "code",
   "execution_count": 99,
   "metadata": {},
   "outputs": [
    {
     "data": {
      "text/plain": [
       "Date          2\n",
       "Zip Code      2\n",
       "Model Year    2\n",
       "Fuel          2\n",
       "Make          3\n",
       "Light_Duty    3\n",
       "Vehicles      3\n",
       "dtype: int64"
      ]
     },
     "execution_count": 99,
     "metadata": {},
     "output_type": "execute_result"
    }
   ],
   "source": [
    "df_transport.isnull().sum()"
   ]
  },
  {
   "cell_type": "markdown",
   "metadata": {},
   "source": [
    "In the output above, we see a list of the column names with a count of how many missing values there are in the DataFrame.\n",
    "\n",
    "We can also inspect each column and see if values are missing by using the following:"
   ]
  },
  {
   "cell_type": "code",
   "execution_count": 100,
   "metadata": {},
   "outputs": [
    {
     "name": "stdout",
     "output_type": "stream",
     "text": [
      "0      False\n",
      "1      False\n",
      "2       True\n",
      "3      False\n",
      "4      False\n",
      "       ...  \n",
      "494    False\n",
      "495    False\n",
      "496    False\n",
      "497    False\n",
      "498    False\n",
      "Name: Date, Length: 499, dtype: bool\n"
     ]
    }
   ],
   "source": [
    "print (df_transport['Date'].isnull())"
   ]
  },
  {
   "cell_type": "code",
   "execution_count": 101,
   "metadata": {},
   "outputs": [
    {
     "name": "stdout",
     "output_type": "stream",
     "text": [
      "0      False\n",
      "1       True\n",
      "2      False\n",
      "3      False\n",
      "4      False\n",
      "       ...  \n",
      "494    False\n",
      "495    False\n",
      "496    False\n",
      "497    False\n",
      "498    False\n",
      "Name: Make, Length: 499, dtype: bool\n"
     ]
    }
   ],
   "source": [
    "print (df_transport['Make'].isnull())"
   ]
  },
  {
   "cell_type": "code",
   "execution_count": 102,
   "metadata": {},
   "outputs": [
    {
     "name": "stdout",
     "output_type": "stream",
     "text": [
      "0      False\n",
      "1      False\n",
      "2       True\n",
      "3      False\n",
      "4      False\n",
      "       ...  \n",
      "494    False\n",
      "495    False\n",
      "496    False\n",
      "497    False\n",
      "498    False\n",
      "Name: Model Year, Length: 499, dtype: bool\n"
     ]
    }
   ],
   "source": [
    "print (df_transport['Model Year'].isnull())"
   ]
  },
  {
   "cell_type": "markdown",
   "metadata": {},
   "source": [
    "### What do we know (or what can we figure out) at this point?\n",
    "\n",
    "We'll want to create a summary of our data by rows, columns, features, unique values and missing values."
   ]
  },
  {
   "cell_type": "code",
   "execution_count": 103,
   "metadata": {},
   "outputs": [
    {
     "name": "stdout",
     "output_type": "stream",
     "text": [
      "Rows     :  499\n",
      "Columns  :  7\n",
      "\n",
      "Features : \n",
      " ['Date', 'Zip Code', 'Model Year', 'Fuel', 'Make', 'Light_Duty', 'Vehicles']\n",
      "\n",
      "Unique values :  \n",
      " Date          130\n",
      "Zip Code        4\n",
      "Model Year     15\n",
      "Fuel            8\n",
      "Make           43\n",
      "Light_Duty      2\n",
      "Vehicles      151\n",
      "dtype: int64\n",
      "\n",
      "Missing values :   17\n"
     ]
    }
   ],
   "source": [
    "print (\"Rows     : \" ,df_transport.shape[0])\n",
    "print (\"Columns  : \" ,df_transport.shape[1])\n",
    "print (\"\\nFeatures : \\n\" ,df_transport.columns.tolist())\n",
    "print (\"\\nUnique values :  \\n\",df_transport.nunique())\n",
    "print (\"\\nMissing values :  \", df_transport.isnull().sum().values.sum())"
   ]
  },
  {
   "cell_type": "markdown",
   "metadata": {},
   "source": [
    "We'll print out the data again to see where we are (this time the last 5 and not the first 5 because we use `tail()` and not `head()`)."
   ]
  },
  {
   "cell_type": "code",
   "execution_count": 104,
   "metadata": {},
   "outputs": [
    {
     "data": {
      "text/html": [
       "<div>\n",
       "<style scoped>\n",
       "    .dataframe tbody tr th:only-of-type {\n",
       "        vertical-align: middle;\n",
       "    }\n",
       "\n",
       "    .dataframe tbody tr th {\n",
       "        vertical-align: top;\n",
       "    }\n",
       "\n",
       "    .dataframe thead th {\n",
       "        text-align: right;\n",
       "    }\n",
       "</style>\n",
       "<table border=\"1\" class=\"dataframe\">\n",
       "  <thead>\n",
       "    <tr style=\"text-align: right;\">\n",
       "      <th></th>\n",
       "      <th>Date</th>\n",
       "      <th>Zip Code</th>\n",
       "      <th>Model Year</th>\n",
       "      <th>Fuel</th>\n",
       "      <th>Make</th>\n",
       "      <th>Light_Duty</th>\n",
       "      <th>Vehicles</th>\n",
       "    </tr>\n",
       "  </thead>\n",
       "  <tbody>\n",
       "    <tr>\n",
       "      <th>494</th>\n",
       "      <td>12/3/2018</td>\n",
       "      <td>90002.0</td>\n",
       "      <td>2010</td>\n",
       "      <td>Gasoline</td>\n",
       "      <td>Type_I</td>\n",
       "      <td>Yes</td>\n",
       "      <td>11.0</td>\n",
       "    </tr>\n",
       "    <tr>\n",
       "      <th>495</th>\n",
       "      <td>12/4/2018</td>\n",
       "      <td>90002.0</td>\n",
       "      <td>2010</td>\n",
       "      <td>Gasoline</td>\n",
       "      <td>Type_B</td>\n",
       "      <td>Yes</td>\n",
       "      <td>58.0</td>\n",
       "    </tr>\n",
       "    <tr>\n",
       "      <th>496</th>\n",
       "      <td>12/5/2018</td>\n",
       "      <td>90002.0</td>\n",
       "      <td>2010</td>\n",
       "      <td>Gasoline</td>\n",
       "      <td>Type_C</td>\n",
       "      <td>Yes</td>\n",
       "      <td>45.0</td>\n",
       "    </tr>\n",
       "    <tr>\n",
       "      <th>497</th>\n",
       "      <td>12/6/2018</td>\n",
       "      <td>90002.0</td>\n",
       "      <td>2010</td>\n",
       "      <td>Gasoline</td>\n",
       "      <td>Type_J</td>\n",
       "      <td>Yes</td>\n",
       "      <td>82.0</td>\n",
       "    </tr>\n",
       "    <tr>\n",
       "      <th>498</th>\n",
       "      <td>12/7/2018</td>\n",
       "      <td>90002.0</td>\n",
       "      <td>2010</td>\n",
       "      <td>Gasoline</td>\n",
       "      <td>Type_J</td>\n",
       "      <td>Yes</td>\n",
       "      <td>12.0</td>\n",
       "    </tr>\n",
       "  </tbody>\n",
       "</table>\n",
       "</div>"
      ],
      "text/plain": [
       "          Date  Zip Code Model Year      Fuel    Make Light_Duty  Vehicles\n",
       "494  12/3/2018   90002.0       2010  Gasoline  Type_I        Yes      11.0\n",
       "495  12/4/2018   90002.0       2010  Gasoline  Type_B        Yes      58.0\n",
       "496  12/5/2018   90002.0       2010  Gasoline  Type_C        Yes      45.0\n",
       "497  12/6/2018   90002.0       2010  Gasoline  Type_J        Yes      82.0\n",
       "498  12/7/2018   90002.0       2010  Gasoline  Type_J        Yes      12.0"
      ]
     },
     "execution_count": 104,
     "metadata": {},
     "output_type": "execute_result"
    }
   ],
   "source": [
    "df_transport.tail()"
   ]
  },
  {
   "cell_type": "markdown",
   "metadata": {},
   "source": [
    "### What are the data quality issues at this point?\n",
    "\n",
    "1. **Missing Values:** Each column has multiple missing values (we have a total of 18 missing values).\n",
    "2. **Date DataType:** Currently the date is in the form of a string. We would need to convert this string into datetime datatype (dd/mm/YY).\n",
    "3. **Model Year:** There are years in the \"Model Year\" column that contain \"<2006\" and we need to change these to \"2006\".\n",
    "4. **Categorical Columns:**  The \"Light_Duty\" feature (column) is a categorical column (\"Yes/No\") and we can't feed these into a ML model as it is so we are going to need to deal with these (we will use one-hot encoding for this). \n",
    "5. **Temporal Features**:  We will need to deal with the day, month and year (more on this in a bit)."
   ]
  },
  {
   "cell_type": "markdown",
   "metadata": {},
   "source": [
    "#### Data Quality Issue #1 (Resolving Missing Values):\n",
    "When we come across missing values in our data we can't always just delete the rows because we may be missing out on important information that could help guide our inference. There are a vast array of methods that we can use to \"deal\" with missing values but I'm not going to go deep into that in this notebook.\n",
    "\n",
    "As a simple rule of thumb we can follow the following rules:\n",
    "**Numeric columns:** We use the \"mean\" values.\n",
    "**Categorical columns:** We use the \"mode\" (most frequent)\n",
    "\n",
    "We will use the `apply()` function to apply a lambda function to fill every column.\n",
    "\n",
    "Let's take a look at the stats that we have so far."
   ]
  },
  {
   "cell_type": "code",
   "execution_count": 105,
   "metadata": {},
   "outputs": [
    {
     "data": {
      "text/plain": [
       "Date          2\n",
       "Zip Code      2\n",
       "Model Year    2\n",
       "Fuel          2\n",
       "Make          3\n",
       "Light_Duty    3\n",
       "Vehicles      3\n",
       "dtype: int64"
      ]
     },
     "execution_count": 105,
     "metadata": {},
     "output_type": "execute_result"
    }
   ],
   "source": [
    "df_transport.isnull().sum()"
   ]
  },
  {
   "cell_type": "markdown",
   "metadata": {},
   "source": [
    "Apply the lambda function."
   ]
  },
  {
   "cell_type": "code",
   "execution_count": 106,
   "metadata": {},
   "outputs": [],
   "source": [
    "df_transport = df_transport.apply(lambda x:x.fillna(x.value_counts().index[0]))"
   ]
  },
  {
   "cell_type": "markdown",
   "metadata": {},
   "source": [
    "Re-check the missing values again."
   ]
  },
  {
   "cell_type": "code",
   "execution_count": 107,
   "metadata": {},
   "outputs": [
    {
     "data": {
      "text/plain": [
       "Date          0\n",
       "Zip Code      0\n",
       "Model Year    0\n",
       "Fuel          0\n",
       "Make          0\n",
       "Light_Duty    0\n",
       "Vehicles      0\n",
       "dtype: int64"
      ]
     },
     "execution_count": 107,
     "metadata": {},
     "output_type": "execute_result"
    }
   ],
   "source": [
    "df_transport.isnull().sum()"
   ]
  },
  {
   "cell_type": "markdown",
   "metadata": {},
   "source": [
    "We can see that now there are no missing values in the DataFrame."
   ]
  },
  {
   "cell_type": "markdown",
   "metadata": {},
   "source": [
    "#### Data Quality Issue #2 (Convert the Date Feature Column to a Datetime Format):  "
   ]
  },
  {
   "cell_type": "markdown",
   "metadata": {},
   "source": [
    "The \"Date\" column is a string and we need to convert the values into data time using the `to_datetime()` function."
   ]
  },
  {
   "cell_type": "code",
   "execution_count": 108,
   "metadata": {},
   "outputs": [],
   "source": [
    "df_transport['Date'] =  pd.to_datetime(df_transport['Date'], format='%m/%d/%Y')"
   ]
  },
  {
   "cell_type": "markdown",
   "metadata": {},
   "source": [
    "Let's take a look at the converted dates."
   ]
  },
  {
   "cell_type": "code",
   "execution_count": 109,
   "metadata": {},
   "outputs": [
    {
     "name": "stdout",
     "output_type": "stream",
     "text": [
      "<class 'pandas.core.frame.DataFrame'>\n",
      "RangeIndex: 499 entries, 0 to 498\n",
      "Data columns (total 7 columns):\n",
      " #   Column      Non-Null Count  Dtype         \n",
      "---  ------      --------------  -----         \n",
      " 0   Date        499 non-null    datetime64[ns]\n",
      " 1   Zip Code    499 non-null    float64       \n",
      " 2   Model Year  499 non-null    object        \n",
      " 3   Fuel        499 non-null    object        \n",
      " 4   Make        499 non-null    object        \n",
      " 5   Light_Duty  499 non-null    object        \n",
      " 6   Vehicles    499 non-null    float64       \n",
      "dtypes: datetime64[ns](1), float64(2), object(4)\n",
      "memory usage: 27.4+ KB\n"
     ]
    }
   ],
   "source": [
    "df_transport.info()"
   ]
  },
  {
   "cell_type": "markdown",
   "metadata": {},
   "source": [
    "Now we want to split the date into three parts (day, month and year) to create some new columns."
   ]
  },
  {
   "cell_type": "code",
   "execution_count": 110,
   "metadata": {},
   "outputs": [
    {
     "name": "stdout",
     "output_type": "stream",
     "text": [
      "<class 'pandas.core.frame.DataFrame'>\n",
      "RangeIndex: 499 entries, 0 to 498\n",
      "Data columns (total 10 columns):\n",
      " #   Column      Non-Null Count  Dtype         \n",
      "---  ------      --------------  -----         \n",
      " 0   Date        499 non-null    datetime64[ns]\n",
      " 1   Zip Code    499 non-null    float64       \n",
      " 2   Model Year  499 non-null    object        \n",
      " 3   Fuel        499 non-null    object        \n",
      " 4   Make        499 non-null    object        \n",
      " 5   Light_Duty  499 non-null    object        \n",
      " 6   Vehicles    499 non-null    float64       \n",
      " 7   year        499 non-null    int32         \n",
      " 8   month       499 non-null    int32         \n",
      " 9   day         499 non-null    int32         \n",
      "dtypes: datetime64[ns](1), float64(2), int32(3), object(4)\n",
      "memory usage: 33.3+ KB\n"
     ]
    }
   ],
   "source": [
    "df_transport['year'] = df_transport['Date'].dt.year\n",
    "df_transport['month'] = df_transport['Date'].dt.month\n",
    "df_transport['day'] = df_transport['Date'].dt.day\n",
    "#df['hour'] = df['date'].dt.hour - use this if the date includes hours.\n",
    "#df['minute'] = df['date'].dt.minute - use this if the date includes minutes.\n",
    "df_transport.info()"
   ]
  },
  {
   "cell_type": "markdown",
   "metadata": {},
   "source": [
    "What we need to do now is confirm the parsing of the date. "
   ]
  },
  {
   "cell_type": "code",
   "execution_count": 111,
   "metadata": {},
   "outputs": [
    {
     "data": {
      "text/html": [
       "<div>\n",
       "<style scoped>\n",
       "    .dataframe tbody tr th:only-of-type {\n",
       "        vertical-align: middle;\n",
       "    }\n",
       "\n",
       "    .dataframe tbody tr th {\n",
       "        vertical-align: top;\n",
       "    }\n",
       "\n",
       "    .dataframe thead th {\n",
       "        text-align: right;\n",
       "    }\n",
       "</style>\n",
       "<table border=\"1\" class=\"dataframe\">\n",
       "  <thead>\n",
       "    <tr style=\"text-align: right;\">\n",
       "      <th></th>\n",
       "      <th>Date</th>\n",
       "      <th>Zip Code</th>\n",
       "      <th>Model Year</th>\n",
       "      <th>Fuel</th>\n",
       "      <th>Make</th>\n",
       "      <th>Light_Duty</th>\n",
       "      <th>Vehicles</th>\n",
       "      <th>year</th>\n",
       "      <th>day</th>\n",
       "    </tr>\n",
       "    <tr>\n",
       "      <th>month</th>\n",
       "      <th></th>\n",
       "      <th></th>\n",
       "      <th></th>\n",
       "      <th></th>\n",
       "      <th></th>\n",
       "      <th></th>\n",
       "      <th></th>\n",
       "      <th></th>\n",
       "      <th></th>\n",
       "    </tr>\n",
       "  </thead>\n",
       "  <tbody>\n",
       "    <tr>\n",
       "      <th>1</th>\n",
       "      <td>2019-01-01</td>\n",
       "      <td>90001.0</td>\n",
       "      <td>2016</td>\n",
       "      <td>Gasoline</td>\n",
       "      <td>Type_G</td>\n",
       "      <td>Yes</td>\n",
       "      <td>18.0</td>\n",
       "      <td>2019</td>\n",
       "      <td>1</td>\n",
       "    </tr>\n",
       "    <tr>\n",
       "      <th>2</th>\n",
       "      <td>2019-02-01</td>\n",
       "      <td>90001.0</td>\n",
       "      <td>2017</td>\n",
       "      <td>Gasoline</td>\n",
       "      <td>Type_D</td>\n",
       "      <td>Yes</td>\n",
       "      <td>13.0</td>\n",
       "      <td>2019</td>\n",
       "      <td>1</td>\n",
       "    </tr>\n",
       "    <tr>\n",
       "      <th>3</th>\n",
       "      <td>2019-03-01</td>\n",
       "      <td>90001.0</td>\n",
       "      <td>2018</td>\n",
       "      <td>Gasoline</td>\n",
       "      <td>Type_C</td>\n",
       "      <td>Yes</td>\n",
       "      <td>32.0</td>\n",
       "      <td>2019</td>\n",
       "      <td>1</td>\n",
       "    </tr>\n",
       "    <tr>\n",
       "      <th>10</th>\n",
       "      <td>2018-10-01</td>\n",
       "      <td>90000.0</td>\n",
       "      <td>2006</td>\n",
       "      <td>Gasoline</td>\n",
       "      <td>OTHER/UNK</td>\n",
       "      <td>Yes</td>\n",
       "      <td>1.0</td>\n",
       "      <td>2018</td>\n",
       "      <td>1</td>\n",
       "    </tr>\n",
       "    <tr>\n",
       "      <th>11</th>\n",
       "      <td>2018-11-01</td>\n",
       "      <td>90001.0</td>\n",
       "      <td>2007</td>\n",
       "      <td>Gasoline</td>\n",
       "      <td>Type_M</td>\n",
       "      <td>Yes</td>\n",
       "      <td>15.0</td>\n",
       "      <td>2018</td>\n",
       "      <td>1</td>\n",
       "    </tr>\n",
       "    <tr>\n",
       "      <th>12</th>\n",
       "      <td>2018-12-02</td>\n",
       "      <td>90001.0</td>\n",
       "      <td>2015</td>\n",
       "      <td>Gasoline</td>\n",
       "      <td>Type_G</td>\n",
       "      <td>Yes</td>\n",
       "      <td>19.0</td>\n",
       "      <td>2018</td>\n",
       "      <td>2</td>\n",
       "    </tr>\n",
       "  </tbody>\n",
       "</table>\n",
       "</div>"
      ],
      "text/plain": [
       "            Date  Zip Code Model Year      Fuel       Make Light_Duty  \\\n",
       "month                                                                   \n",
       "1     2019-01-01   90001.0       2016  Gasoline     Type_G        Yes   \n",
       "2     2019-02-01   90001.0       2017  Gasoline     Type_D        Yes   \n",
       "3     2019-03-01   90001.0       2018  Gasoline     Type_C        Yes   \n",
       "10    2018-10-01   90000.0       2006  Gasoline  OTHER/UNK        Yes   \n",
       "11    2018-11-01   90001.0       2007  Gasoline     Type_M        Yes   \n",
       "12    2018-12-02   90001.0       2015  Gasoline     Type_G        Yes   \n",
       "\n",
       "       Vehicles  year  day  \n",
       "month                       \n",
       "1          18.0  2019    1  \n",
       "2          13.0  2019    1  \n",
       "3          32.0  2019    1  \n",
       "10          1.0  2018    1  \n",
       "11         15.0  2018    1  \n",
       "12         19.0  2018    2  "
      ]
     },
     "execution_count": 111,
     "metadata": {},
     "output_type": "execute_result"
    }
   ],
   "source": [
    "# Get the first entry for each month.\n",
    "df_transport.groupby('month').first()"
   ]
  },
  {
   "cell_type": "markdown",
   "metadata": {},
   "source": [
    "Looking at the table above, we can see that the date has successfully been parsed. Let's plot the data to inspect it further."
   ]
  },
  {
   "cell_type": "code",
   "execution_count": 112,
   "metadata": {},
   "outputs": [
    {
     "data": {
      "text/plain": [
       "<seaborn.axisgrid.JointGrid at 0x1fb1baae010>"
      ]
     },
     "execution_count": 112,
     "metadata": {},
     "output_type": "execute_result"
    },
    {
     "data": {
      "text/plain": [
       "<Figure size 1000x600 with 0 Axes>"
      ]
     },
     "metadata": {},
     "output_type": "display_data"
    },
    {
     "data": {
      "image/png": "[encoded data removed]",
      "text/plain": [
       "<Figure size 600x600 with 3 Axes>"
      ]
     },
     "metadata": {},
     "output_type": "display_data"
    }
   ],
   "source": [
    "plt.figure(figsize=(10,6))\n",
    "sns.jointplot(x='month',y='Vehicles',data=df_transport)\n",
    "#plt.title('Vehicles by Month')"
   ]
  },
  {
   "cell_type": "markdown",
   "metadata": {},
   "source": [
    "#### Data Quality Issue #3 (Rename a Feature Column and Remove a Value):\n",
    "\n",
    "If you look at the column names we can see that there are some problems. The first problem is the capitalisations in the titles and the second is the spaces.  "
   ]
  },
  {
   "cell_type": "code",
   "execution_count": 113,
   "metadata": {},
   "outputs": [
    {
     "name": "stdout",
     "output_type": "stream",
     "text": [
      "\n",
      "Features : \n",
      " ['Date', 'Zip Code', 'Model Year', 'Fuel', 'Make', 'Light_Duty', 'Vehicles', 'year', 'month', 'day']\n"
     ]
    }
   ],
   "source": [
    "print (\"\\nFeatures : \\n\" ,df_transport.columns.tolist())"
   ]
  },
  {
   "cell_type": "markdown",
   "metadata": {},
   "source": [
    "Now let's sort this out by renaming the columns."
   ]
  },
  {
   "cell_type": "code",
   "execution_count": 114,
   "metadata": {},
   "outputs": [],
   "source": [
    "df_transport.rename(columns = { \n",
    "    'Date': 'date', \n",
    "    'Zip Code':'zipcode', \n",
    "    'Model Year': 'modelyear', \n",
    "    'Fuel': 'fuel', \n",
    "    'Make': 'make', \n",
    "    'Light_Duty': 'lightduty', \n",
    "    'Vehicles': 'vehicles'\n",
    "    }, inplace = True\n",
    ") "
   ]
  },
  {
   "cell_type": "markdown",
   "metadata": {},
   "source": [
    "Let's make sure that worked."
   ]
  },
  {
   "cell_type": "code",
   "execution_count": 115,
   "metadata": {},
   "outputs": [
    {
     "name": "stdout",
     "output_type": "stream",
     "text": [
      "\n",
      "Features : \n",
      " ['date', 'zipcode', 'modelyear', 'fuel', 'make', 'lightduty', 'vehicles', 'year', 'month', 'day']\n"
     ]
    },
    {
     "data": {
      "text/html": [
       "<div>\n",
       "<style scoped>\n",
       "    .dataframe tbody tr th:only-of-type {\n",
       "        vertical-align: middle;\n",
       "    }\n",
       "\n",
       "    .dataframe tbody tr th {\n",
       "        vertical-align: top;\n",
       "    }\n",
       "\n",
       "    .dataframe thead th {\n",
       "        text-align: right;\n",
       "    }\n",
       "</style>\n",
       "<table border=\"1\" class=\"dataframe\">\n",
       "  <thead>\n",
       "    <tr style=\"text-align: right;\">\n",
       "      <th></th>\n",
       "      <th>date</th>\n",
       "      <th>zipcode</th>\n",
       "      <th>modelyear</th>\n",
       "      <th>fuel</th>\n",
       "      <th>make</th>\n",
       "      <th>lightduty</th>\n",
       "      <th>vehicles</th>\n",
       "      <th>year</th>\n",
       "      <th>month</th>\n",
       "      <th>day</th>\n",
       "    </tr>\n",
       "  </thead>\n",
       "  <tbody>\n",
       "    <tr>\n",
       "      <th>0</th>\n",
       "      <td>2018-10-01</td>\n",
       "      <td>90000.0</td>\n",
       "      <td>2006</td>\n",
       "      <td>Gasoline</td>\n",
       "      <td>OTHER/UNK</td>\n",
       "      <td>Yes</td>\n",
       "      <td>1.0</td>\n",
       "      <td>2018</td>\n",
       "      <td>10</td>\n",
       "      <td>1</td>\n",
       "    </tr>\n",
       "    <tr>\n",
       "      <th>1</th>\n",
       "      <td>2018-10-01</td>\n",
       "      <td>90001.0</td>\n",
       "      <td>2014</td>\n",
       "      <td>Gasoline</td>\n",
       "      <td>OTHER/UNK</td>\n",
       "      <td>Yes</td>\n",
       "      <td>1.0</td>\n",
       "      <td>2018</td>\n",
       "      <td>10</td>\n",
       "      <td>1</td>\n",
       "    </tr>\n",
       "    <tr>\n",
       "      <th>2</th>\n",
       "      <td>2018-10-01</td>\n",
       "      <td>90000.0</td>\n",
       "      <td>&lt;2006</td>\n",
       "      <td>Gasoline</td>\n",
       "      <td>OTHER/UNK</td>\n",
       "      <td>Yes</td>\n",
       "      <td>13.0</td>\n",
       "      <td>2018</td>\n",
       "      <td>10</td>\n",
       "      <td>1</td>\n",
       "    </tr>\n",
       "    <tr>\n",
       "      <th>3</th>\n",
       "      <td>2018-10-01</td>\n",
       "      <td>90000.0</td>\n",
       "      <td>2017</td>\n",
       "      <td>Gasoline</td>\n",
       "      <td>OTHER/UNK</td>\n",
       "      <td>Yes</td>\n",
       "      <td>1.0</td>\n",
       "      <td>2018</td>\n",
       "      <td>10</td>\n",
       "      <td>1</td>\n",
       "    </tr>\n",
       "    <tr>\n",
       "      <th>4</th>\n",
       "      <td>2018-10-01</td>\n",
       "      <td>90000.0</td>\n",
       "      <td>&lt;2006</td>\n",
       "      <td>Diesel and Diesel Hybrid</td>\n",
       "      <td>OTHER/UNK</td>\n",
       "      <td>No</td>\n",
       "      <td>55.0</td>\n",
       "      <td>2018</td>\n",
       "      <td>10</td>\n",
       "      <td>1</td>\n",
       "    </tr>\n",
       "  </tbody>\n",
       "</table>\n",
       "</div>"
      ],
      "text/plain": [
       "        date  zipcode modelyear                      fuel       make  \\\n",
       "0 2018-10-01  90000.0      2006                  Gasoline  OTHER/UNK   \n",
       "1 2018-10-01  90001.0      2014                  Gasoline  OTHER/UNK   \n",
       "2 2018-10-01  90000.0     <2006                  Gasoline  OTHER/UNK   \n",
       "3 2018-10-01  90000.0      2017                  Gasoline  OTHER/UNK   \n",
       "4 2018-10-01  90000.0     <2006  Diesel and Diesel Hybrid  OTHER/UNK   \n",
       "\n",
       "  lightduty  vehicles  year  month  day  \n",
       "0       Yes       1.0  2018     10    1  \n",
       "1       Yes       1.0  2018     10    1  \n",
       "2       Yes      13.0  2018     10    1  \n",
       "3       Yes       1.0  2018     10    1  \n",
       "4        No      55.0  2018     10    1  "
      ]
     },
     "execution_count": 115,
     "metadata": {},
     "output_type": "execute_result"
    }
   ],
   "source": [
    "print (\"\\nFeatures : \\n\" ,df_transport.columns.tolist())\n",
    "df_transport.head()"
   ]
  },
  {
   "cell_type": "markdown",
   "metadata": {},
   "source": [
    " **Note:** To avoid the \"SettingWithCopyWarning\" warning we will now create a copy of the DataFrame. As we create this copy we deal with the \"<2006\" values from the DataFrame."
   ]
  },
  {
   "cell_type": "code",
   "execution_count": 116,
   "metadata": {},
   "outputs": [],
   "source": [
    "df = df_transport.loc[df_transport.modelyear != '<2006'].copy()"
   ]
  },
  {
   "cell_type": "markdown",
   "metadata": {},
   "source": [
    "Now we confirm that values '<2006' in modelyear have been removed. We do this by doing a value count."
   ]
  },
  {
   "cell_type": "code",
   "execution_count": 117,
   "metadata": {},
   "outputs": [
    {
     "data": {
      "text/plain": [
       "modelyear\n",
       "2007    53\n",
       "2008    45\n",
       "2006    36\n",
       "2010    34\n",
       "2014    31\n",
       "2015    30\n",
       "2017    29\n",
       "2016    29\n",
       "2013    27\n",
       "2009    25\n",
       "2012    25\n",
       "2011    24\n",
       "2018    23\n",
       "2019     5\n",
       "Name: count, dtype: int64"
      ]
     },
     "execution_count": 117,
     "metadata": {},
     "output_type": "execute_result"
    }
   ],
   "source": [
    "df['modelyear'].value_counts(0)"
   ]
  },
  {
   "cell_type": "markdown",
   "metadata": {},
   "source": [
    "#### Data Quality Issue #4 (Handling Categorical Columns):\n",
    "\n",
    "We have a column called \"lightduty\" in our DataFrame which is a \"Yes/No\" choice (currently in the form of a string value). We can't use this type of data in a neural network so we are going to convert the \"Yes/No\" into \"0/1\" (integer) values. To do this we will use the `apply()` function and use a lambda expression to achieve this transformation."
   ]
  },
  {
   "cell_type": "markdown",
   "metadata": {},
   "source": [
    "Before we do that, let's take a look at home many \"Yes\" and \"No\" values that we have."
   ]
  },
  {
   "cell_type": "code",
   "execution_count": 118,
   "metadata": {},
   "outputs": [
    {
     "data": {
      "text/plain": [
       "lightduty\n",
       "Yes    374\n",
       "No      42\n",
       "Name: count, dtype: int64"
      ]
     },
     "execution_count": 118,
     "metadata": {},
     "output_type": "execute_result"
    }
   ],
   "source": [
    "df['lightduty'].value_counts(0)"
   ]
  },
  {
   "cell_type": "markdown",
   "metadata": {},
   "source": [
    "##### What is a Lambda Function?\n",
    "Lambda functions are a simple one-line function that is applied to each item in the dataset (we don't use the \"def\" keyword here to declare the function as lambda functions are anonymous and as such we don't need to name them).\n",
    "\n",
    "Now let's use the lambda function to change the \"Yes\" values to 1 and \"No\" values to 0. We can do this with pandas using the `apply()` function."
   ]
  },
  {
   "cell_type": "code",
   "execution_count": 119,
   "metadata": {},
   "outputs": [],
   "source": [
    "df.loc[:,'lightduty'] = df['lightduty'].apply(lambda x: 0 if x=='No' else 1)"
   ]
  },
  {
   "cell_type": "markdown",
   "metadata": {},
   "source": [
    "Now that's done, let's make sure the DataFrame has the same stats as before."
   ]
  },
  {
   "cell_type": "code",
   "execution_count": 120,
   "metadata": {},
   "outputs": [
    {
     "data": {
      "text/plain": [
       "lightduty\n",
       "1    374\n",
       "0     42\n",
       "Name: count, dtype: int64"
      ]
     },
     "execution_count": 120,
     "metadata": {},
     "output_type": "execute_result"
    }
   ],
   "source": [
    "df['lightduty'].value_counts(0)"
   ]
  },
  {
   "cell_type": "markdown",
   "metadata": {},
   "source": [
    "We can also inspect the DataFrame to ensure those values have been changed."
   ]
  },
  {
   "cell_type": "code",
   "execution_count": 121,
   "metadata": {},
   "outputs": [
    {
     "data": {
      "text/html": [
       "<div>\n",
       "<style scoped>\n",
       "    .dataframe tbody tr th:only-of-type {\n",
       "        vertical-align: middle;\n",
       "    }\n",
       "\n",
       "    .dataframe tbody tr th {\n",
       "        vertical-align: top;\n",
       "    }\n",
       "\n",
       "    .dataframe thead th {\n",
       "        text-align: right;\n",
       "    }\n",
       "</style>\n",
       "<table border=\"1\" class=\"dataframe\">\n",
       "  <thead>\n",
       "    <tr style=\"text-align: right;\">\n",
       "      <th></th>\n",
       "      <th>date</th>\n",
       "      <th>zipcode</th>\n",
       "      <th>modelyear</th>\n",
       "      <th>fuel</th>\n",
       "      <th>make</th>\n",
       "      <th>lightduty</th>\n",
       "      <th>vehicles</th>\n",
       "      <th>year</th>\n",
       "      <th>month</th>\n",
       "      <th>day</th>\n",
       "    </tr>\n",
       "  </thead>\n",
       "  <tbody>\n",
       "    <tr>\n",
       "      <th>0</th>\n",
       "      <td>2018-10-01</td>\n",
       "      <td>90000.0</td>\n",
       "      <td>2006</td>\n",
       "      <td>Gasoline</td>\n",
       "      <td>OTHER/UNK</td>\n",
       "      <td>1</td>\n",
       "      <td>1.0</td>\n",
       "      <td>2018</td>\n",
       "      <td>10</td>\n",
       "      <td>1</td>\n",
       "    </tr>\n",
       "    <tr>\n",
       "      <th>1</th>\n",
       "      <td>2018-10-01</td>\n",
       "      <td>90001.0</td>\n",
       "      <td>2014</td>\n",
       "      <td>Gasoline</td>\n",
       "      <td>OTHER/UNK</td>\n",
       "      <td>1</td>\n",
       "      <td>1.0</td>\n",
       "      <td>2018</td>\n",
       "      <td>10</td>\n",
       "      <td>1</td>\n",
       "    </tr>\n",
       "    <tr>\n",
       "      <th>3</th>\n",
       "      <td>2018-10-01</td>\n",
       "      <td>90000.0</td>\n",
       "      <td>2017</td>\n",
       "      <td>Gasoline</td>\n",
       "      <td>OTHER/UNK</td>\n",
       "      <td>1</td>\n",
       "      <td>1.0</td>\n",
       "      <td>2018</td>\n",
       "      <td>10</td>\n",
       "      <td>1</td>\n",
       "    </tr>\n",
       "    <tr>\n",
       "      <th>16</th>\n",
       "      <td>2018-10-09</td>\n",
       "      <td>90001.0</td>\n",
       "      <td>2006</td>\n",
       "      <td>Diesel and Diesel Hybrid</td>\n",
       "      <td>Type_C</td>\n",
       "      <td>0</td>\n",
       "      <td>16.0</td>\n",
       "      <td>2018</td>\n",
       "      <td>10</td>\n",
       "      <td>9</td>\n",
       "    </tr>\n",
       "    <tr>\n",
       "      <th>17</th>\n",
       "      <td>2018-10-10</td>\n",
       "      <td>90001.0</td>\n",
       "      <td>2006</td>\n",
       "      <td>Diesel and Diesel Hybrid</td>\n",
       "      <td>OTHER/UNK</td>\n",
       "      <td>0</td>\n",
       "      <td>23.0</td>\n",
       "      <td>2018</td>\n",
       "      <td>10</td>\n",
       "      <td>10</td>\n",
       "    </tr>\n",
       "  </tbody>\n",
       "</table>\n",
       "</div>"
      ],
      "text/plain": [
       "         date  zipcode modelyear                      fuel       make  \\\n",
       "0  2018-10-01  90000.0      2006                  Gasoline  OTHER/UNK   \n",
       "1  2018-10-01  90001.0      2014                  Gasoline  OTHER/UNK   \n",
       "3  2018-10-01  90000.0      2017                  Gasoline  OTHER/UNK   \n",
       "16 2018-10-09  90001.0      2006  Diesel and Diesel Hybrid     Type_C   \n",
       "17 2018-10-10  90001.0      2006  Diesel and Diesel Hybrid  OTHER/UNK   \n",
       "\n",
       "   lightduty  vehicles  year  month  day  \n",
       "0          1       1.0  2018     10    1  \n",
       "1          1       1.0  2018     10    1  \n",
       "3          1       1.0  2018     10    1  \n",
       "16         0      16.0  2018     10    9  \n",
       "17         0      23.0  2018     10   10  "
      ]
     },
     "execution_count": 121,
     "metadata": {},
     "output_type": "execute_result"
    }
   ],
   "source": [
    "df.head()"
   ]
  },
  {
   "cell_type": "markdown",
   "metadata": {},
   "source": [
    "#### One-Hot Encoding Categorical Feature Columns\n",
    "When it comes to categorical data there are a few options on how tod eal with them. One method could be to give each class a value i.e. Yes=1 and No=2. The problem with this approach is that our ML model may think that higher values are more important i.e. in this example \"No\" is more important than \"Yes\" because it is a 2 while \"Yes\" is a 1.\n",
    "\n",
    "To avoid this problem we can use a technique called one-hot encoding which essentially creates new columns for each of the classes i.e. a new column for \"No\" and a new column for \"Yes\". To represent a Yes in this example we would place a 0 in the \"No\" column and a 1 in the \"Yes\" column and the same vice versa. \n",
    "\n",
    "There is a function in pandas called `get_dummies()` which we can use to convert categorical variables into dummy/indicator variables."
   ]
  },
  {
   "cell_type": "code",
   "execution_count": 122,
   "metadata": {},
   "outputs": [],
   "source": [
    "data_dummy = pd.get_dummies(df[['zipcode','modelyear', 'fuel', 'make']], drop_first=True)"
   ]
  },
  {
   "cell_type": "markdown",
   "metadata": {},
   "source": [
    "Let's take a look at this `data_dummy` DataFrame that we just made:"
   ]
  },
  {
   "cell_type": "code",
   "execution_count": 123,
   "metadata": {},
   "outputs": [
    {
     "data": {
      "text/html": [
       "<div>\n",
       "<style scoped>\n",
       "    .dataframe tbody tr th:only-of-type {\n",
       "        vertical-align: middle;\n",
       "    }\n",
       "\n",
       "    .dataframe tbody tr th {\n",
       "        vertical-align: top;\n",
       "    }\n",
       "\n",
       "    .dataframe thead th {\n",
       "        text-align: right;\n",
       "    }\n",
       "</style>\n",
       "<table border=\"1\" class=\"dataframe\">\n",
       "  <thead>\n",
       "    <tr style=\"text-align: right;\">\n",
       "      <th></th>\n",
       "      <th>zipcode</th>\n",
       "      <th>modelyear_2007</th>\n",
       "      <th>modelyear_2008</th>\n",
       "      <th>modelyear_2009</th>\n",
       "      <th>modelyear_2010</th>\n",
       "      <th>modelyear_2011</th>\n",
       "      <th>modelyear_2012</th>\n",
       "      <th>modelyear_2013</th>\n",
       "      <th>modelyear_2014</th>\n",
       "      <th>modelyear_2015</th>\n",
       "      <th>...</th>\n",
       "      <th>make_Type_P</th>\n",
       "      <th>make_Type_Q</th>\n",
       "      <th>make_Type_R</th>\n",
       "      <th>make_Type_S</th>\n",
       "      <th>make_Type_T</th>\n",
       "      <th>make_Type_U</th>\n",
       "      <th>make_Type_V</th>\n",
       "      <th>make_Type_W</th>\n",
       "      <th>make_Type_X</th>\n",
       "      <th>make_Type_Y</th>\n",
       "    </tr>\n",
       "  </thead>\n",
       "  <tbody>\n",
       "    <tr>\n",
       "      <th>0</th>\n",
       "      <td>90000.0</td>\n",
       "      <td>False</td>\n",
       "      <td>False</td>\n",
       "      <td>False</td>\n",
       "      <td>False</td>\n",
       "      <td>False</td>\n",
       "      <td>False</td>\n",
       "      <td>False</td>\n",
       "      <td>False</td>\n",
       "      <td>False</td>\n",
       "      <td>...</td>\n",
       "      <td>False</td>\n",
       "      <td>False</td>\n",
       "      <td>False</td>\n",
       "      <td>False</td>\n",
       "      <td>False</td>\n",
       "      <td>False</td>\n",
       "      <td>False</td>\n",
       "      <td>False</td>\n",
       "      <td>False</td>\n",
       "      <td>False</td>\n",
       "    </tr>\n",
       "    <tr>\n",
       "      <th>1</th>\n",
       "      <td>90001.0</td>\n",
       "      <td>False</td>\n",
       "      <td>False</td>\n",
       "      <td>False</td>\n",
       "      <td>False</td>\n",
       "      <td>False</td>\n",
       "      <td>False</td>\n",
       "      <td>False</td>\n",
       "      <td>True</td>\n",
       "      <td>False</td>\n",
       "      <td>...</td>\n",
       "      <td>False</td>\n",
       "      <td>False</td>\n",
       "      <td>False</td>\n",
       "      <td>False</td>\n",
       "      <td>False</td>\n",
       "      <td>False</td>\n",
       "      <td>False</td>\n",
       "      <td>False</td>\n",
       "      <td>False</td>\n",
       "      <td>False</td>\n",
       "    </tr>\n",
       "    <tr>\n",
       "      <th>3</th>\n",
       "      <td>90000.0</td>\n",
       "      <td>False</td>\n",
       "      <td>False</td>\n",
       "      <td>False</td>\n",
       "      <td>False</td>\n",
       "      <td>False</td>\n",
       "      <td>False</td>\n",
       "      <td>False</td>\n",
       "      <td>False</td>\n",
       "      <td>False</td>\n",
       "      <td>...</td>\n",
       "      <td>False</td>\n",
       "      <td>False</td>\n",
       "      <td>False</td>\n",
       "      <td>False</td>\n",
       "      <td>False</td>\n",
       "      <td>False</td>\n",
       "      <td>False</td>\n",
       "      <td>False</td>\n",
       "      <td>False</td>\n",
       "      <td>False</td>\n",
       "    </tr>\n",
       "    <tr>\n",
       "      <th>16</th>\n",
       "      <td>90001.0</td>\n",
       "      <td>False</td>\n",
       "      <td>False</td>\n",
       "      <td>False</td>\n",
       "      <td>False</td>\n",
       "      <td>False</td>\n",
       "      <td>False</td>\n",
       "      <td>False</td>\n",
       "      <td>False</td>\n",
       "      <td>False</td>\n",
       "      <td>...</td>\n",
       "      <td>False</td>\n",
       "      <td>False</td>\n",
       "      <td>False</td>\n",
       "      <td>False</td>\n",
       "      <td>False</td>\n",
       "      <td>False</td>\n",
       "      <td>False</td>\n",
       "      <td>False</td>\n",
       "      <td>False</td>\n",
       "      <td>False</td>\n",
       "    </tr>\n",
       "    <tr>\n",
       "      <th>17</th>\n",
       "      <td>90001.0</td>\n",
       "      <td>False</td>\n",
       "      <td>False</td>\n",
       "      <td>False</td>\n",
       "      <td>False</td>\n",
       "      <td>False</td>\n",
       "      <td>False</td>\n",
       "      <td>False</td>\n",
       "      <td>False</td>\n",
       "      <td>False</td>\n",
       "      <td>...</td>\n",
       "      <td>False</td>\n",
       "      <td>False</td>\n",
       "      <td>False</td>\n",
       "      <td>False</td>\n",
       "      <td>False</td>\n",
       "      <td>False</td>\n",
       "      <td>False</td>\n",
       "      <td>False</td>\n",
       "      <td>False</td>\n",
       "      <td>False</td>\n",
       "    </tr>\n",
       "  </tbody>\n",
       "</table>\n",
       "<p>5 rows × 49 columns</p>\n",
       "</div>"
      ],
      "text/plain": [
       "    zipcode  modelyear_2007  modelyear_2008  modelyear_2009  modelyear_2010  \\\n",
       "0   90000.0           False           False           False           False   \n",
       "1   90001.0           False           False           False           False   \n",
       "3   90000.0           False           False           False           False   \n",
       "16  90001.0           False           False           False           False   \n",
       "17  90001.0           False           False           False           False   \n",
       "\n",
       "    modelyear_2011  modelyear_2012  modelyear_2013  modelyear_2014  \\\n",
       "0            False           False           False           False   \n",
       "1            False           False           False            True   \n",
       "3            False           False           False           False   \n",
       "16           False           False           False           False   \n",
       "17           False           False           False           False   \n",
       "\n",
       "    modelyear_2015  ...  make_Type_P  make_Type_Q  make_Type_R  make_Type_S  \\\n",
       "0            False  ...        False        False        False        False   \n",
       "1            False  ...        False        False        False        False   \n",
       "3            False  ...        False        False        False        False   \n",
       "16           False  ...        False        False        False        False   \n",
       "17           False  ...        False        False        False        False   \n",
       "\n",
       "    make_Type_T  make_Type_U  make_Type_V  make_Type_W  make_Type_X  \\\n",
       "0         False        False        False        False        False   \n",
       "1         False        False        False        False        False   \n",
       "3         False        False        False        False        False   \n",
       "16        False        False        False        False        False   \n",
       "17        False        False        False        False        False   \n",
       "\n",
       "    make_Type_Y  \n",
       "0         False  \n",
       "1         False  \n",
       "3         False  \n",
       "16        False  \n",
       "17        False  \n",
       "\n",
       "[5 rows x 49 columns]"
      ]
     },
     "execution_count": 123,
     "metadata": {},
     "output_type": "execute_result"
    }
   ],
   "source": [
    "data_dummy.head()"
   ]
  },
  {
   "cell_type": "markdown",
   "metadata": {},
   "source": [
    "Now we need to merge (concatenate) original DataFrame with newly created `data_dummy` DataFrame."
   ]
  },
  {
   "cell_type": "code",
   "execution_count": 124,
   "metadata": {},
   "outputs": [],
   "source": [
    "df = pd.concat([df,data_dummy], axis=1)"
   ]
  },
  {
   "cell_type": "markdown",
   "metadata": {},
   "source": [
    "Now let's make sure that the `df` DataFrame has been concatenated with the `data_dummy` DataFrame."
   ]
  },
  {
   "cell_type": "code",
   "execution_count": 125,
   "metadata": {},
   "outputs": [
    {
     "data": {
      "text/html": [
       "<div>\n",
       "<style scoped>\n",
       "    .dataframe tbody tr th:only-of-type {\n",
       "        vertical-align: middle;\n",
       "    }\n",
       "\n",
       "    .dataframe tbody tr th {\n",
       "        vertical-align: top;\n",
       "    }\n",
       "\n",
       "    .dataframe thead th {\n",
       "        text-align: right;\n",
       "    }\n",
       "</style>\n",
       "<table border=\"1\" class=\"dataframe\">\n",
       "  <thead>\n",
       "    <tr style=\"text-align: right;\">\n",
       "      <th></th>\n",
       "      <th>date</th>\n",
       "      <th>zipcode</th>\n",
       "      <th>modelyear</th>\n",
       "      <th>fuel</th>\n",
       "      <th>make</th>\n",
       "      <th>lightduty</th>\n",
       "      <th>vehicles</th>\n",
       "      <th>year</th>\n",
       "      <th>month</th>\n",
       "      <th>day</th>\n",
       "      <th>...</th>\n",
       "      <th>make_Type_P</th>\n",
       "      <th>make_Type_Q</th>\n",
       "      <th>make_Type_R</th>\n",
       "      <th>make_Type_S</th>\n",
       "      <th>make_Type_T</th>\n",
       "      <th>make_Type_U</th>\n",
       "      <th>make_Type_V</th>\n",
       "      <th>make_Type_W</th>\n",
       "      <th>make_Type_X</th>\n",
       "      <th>make_Type_Y</th>\n",
       "    </tr>\n",
       "  </thead>\n",
       "  <tbody>\n",
       "    <tr>\n",
       "      <th>0</th>\n",
       "      <td>2018-10-01</td>\n",
       "      <td>90000.0</td>\n",
       "      <td>2006</td>\n",
       "      <td>Gasoline</td>\n",
       "      <td>OTHER/UNK</td>\n",
       "      <td>1</td>\n",
       "      <td>1.0</td>\n",
       "      <td>2018</td>\n",
       "      <td>10</td>\n",
       "      <td>1</td>\n",
       "      <td>...</td>\n",
       "      <td>False</td>\n",
       "      <td>False</td>\n",
       "      <td>False</td>\n",
       "      <td>False</td>\n",
       "      <td>False</td>\n",
       "      <td>False</td>\n",
       "      <td>False</td>\n",
       "      <td>False</td>\n",
       "      <td>False</td>\n",
       "      <td>False</td>\n",
       "    </tr>\n",
       "    <tr>\n",
       "      <th>1</th>\n",
       "      <td>2018-10-01</td>\n",
       "      <td>90001.0</td>\n",
       "      <td>2014</td>\n",
       "      <td>Gasoline</td>\n",
       "      <td>OTHER/UNK</td>\n",
       "      <td>1</td>\n",
       "      <td>1.0</td>\n",
       "      <td>2018</td>\n",
       "      <td>10</td>\n",
       "      <td>1</td>\n",
       "      <td>...</td>\n",
       "      <td>False</td>\n",
       "      <td>False</td>\n",
       "      <td>False</td>\n",
       "      <td>False</td>\n",
       "      <td>False</td>\n",
       "      <td>False</td>\n",
       "      <td>False</td>\n",
       "      <td>False</td>\n",
       "      <td>False</td>\n",
       "      <td>False</td>\n",
       "    </tr>\n",
       "    <tr>\n",
       "      <th>3</th>\n",
       "      <td>2018-10-01</td>\n",
       "      <td>90000.0</td>\n",
       "      <td>2017</td>\n",
       "      <td>Gasoline</td>\n",
       "      <td>OTHER/UNK</td>\n",
       "      <td>1</td>\n",
       "      <td>1.0</td>\n",
       "      <td>2018</td>\n",
       "      <td>10</td>\n",
       "      <td>1</td>\n",
       "      <td>...</td>\n",
       "      <td>False</td>\n",
       "      <td>False</td>\n",
       "      <td>False</td>\n",
       "      <td>False</td>\n",
       "      <td>False</td>\n",
       "      <td>False</td>\n",
       "      <td>False</td>\n",
       "      <td>False</td>\n",
       "      <td>False</td>\n",
       "      <td>False</td>\n",
       "    </tr>\n",
       "    <tr>\n",
       "      <th>16</th>\n",
       "      <td>2018-10-09</td>\n",
       "      <td>90001.0</td>\n",
       "      <td>2006</td>\n",
       "      <td>Diesel and Diesel Hybrid</td>\n",
       "      <td>Type_C</td>\n",
       "      <td>0</td>\n",
       "      <td>16.0</td>\n",
       "      <td>2018</td>\n",
       "      <td>10</td>\n",
       "      <td>9</td>\n",
       "      <td>...</td>\n",
       "      <td>False</td>\n",
       "      <td>False</td>\n",
       "      <td>False</td>\n",
       "      <td>False</td>\n",
       "      <td>False</td>\n",
       "      <td>False</td>\n",
       "      <td>False</td>\n",
       "      <td>False</td>\n",
       "      <td>False</td>\n",
       "      <td>False</td>\n",
       "    </tr>\n",
       "    <tr>\n",
       "      <th>17</th>\n",
       "      <td>2018-10-10</td>\n",
       "      <td>90001.0</td>\n",
       "      <td>2006</td>\n",
       "      <td>Diesel and Diesel Hybrid</td>\n",
       "      <td>OTHER/UNK</td>\n",
       "      <td>0</td>\n",
       "      <td>23.0</td>\n",
       "      <td>2018</td>\n",
       "      <td>10</td>\n",
       "      <td>10</td>\n",
       "      <td>...</td>\n",
       "      <td>False</td>\n",
       "      <td>False</td>\n",
       "      <td>False</td>\n",
       "      <td>False</td>\n",
       "      <td>False</td>\n",
       "      <td>False</td>\n",
       "      <td>False</td>\n",
       "      <td>False</td>\n",
       "      <td>False</td>\n",
       "      <td>False</td>\n",
       "    </tr>\n",
       "  </tbody>\n",
       "</table>\n",
       "<p>5 rows × 59 columns</p>\n",
       "</div>"
      ],
      "text/plain": [
       "         date  zipcode modelyear                      fuel       make  \\\n",
       "0  2018-10-01  90000.0      2006                  Gasoline  OTHER/UNK   \n",
       "1  2018-10-01  90001.0      2014                  Gasoline  OTHER/UNK   \n",
       "3  2018-10-01  90000.0      2017                  Gasoline  OTHER/UNK   \n",
       "16 2018-10-09  90001.0      2006  Diesel and Diesel Hybrid     Type_C   \n",
       "17 2018-10-10  90001.0      2006  Diesel and Diesel Hybrid  OTHER/UNK   \n",
       "\n",
       "   lightduty  vehicles  year  month  day  ...  make_Type_P  make_Type_Q  \\\n",
       "0          1       1.0  2018     10    1  ...        False        False   \n",
       "1          1       1.0  2018     10    1  ...        False        False   \n",
       "3          1       1.0  2018     10    1  ...        False        False   \n",
       "16         0      16.0  2018     10    9  ...        False        False   \n",
       "17         0      23.0  2018     10   10  ...        False        False   \n",
       "\n",
       "    make_Type_R  make_Type_S  make_Type_T  make_Type_U  make_Type_V  \\\n",
       "0         False        False        False        False        False   \n",
       "1         False        False        False        False        False   \n",
       "3         False        False        False        False        False   \n",
       "16        False        False        False        False        False   \n",
       "17        False        False        False        False        False   \n",
       "\n",
       "    make_Type_W  make_Type_X  make_Type_Y  \n",
       "0         False        False        False  \n",
       "1         False        False        False  \n",
       "3         False        False        False  \n",
       "16        False        False        False  \n",
       "17        False        False        False  \n",
       "\n",
       "[5 rows x 59 columns]"
      ]
     },
     "execution_count": 125,
     "metadata": {},
     "output_type": "execute_result"
    }
   ],
   "source": [
    "df.head()"
   ]
  },
  {
   "cell_type": "markdown",
   "metadata": {},
   "source": [
    "Once we have added these one-hot encoded columns to the DataFrame we can now remove the originals."
   ]
  },
  {
   "cell_type": "code",
   "execution_count": 126,
   "metadata": {},
   "outputs": [],
   "source": [
    "df = df.drop(['date','zipcode','modelyear', 'fuel', 'make'], axis=1)"
   ]
  },
  {
   "cell_type": "markdown",
   "metadata": {},
   "source": [
    "Now we confirm that those changes have successfully been made."
   ]
  },
  {
   "cell_type": "code",
   "execution_count": 127,
   "metadata": {},
   "outputs": [
    {
     "data": {
      "text/html": [
       "<div>\n",
       "<style scoped>\n",
       "    .dataframe tbody tr th:only-of-type {\n",
       "        vertical-align: middle;\n",
       "    }\n",
       "\n",
       "    .dataframe tbody tr th {\n",
       "        vertical-align: top;\n",
       "    }\n",
       "\n",
       "    .dataframe thead th {\n",
       "        text-align: right;\n",
       "    }\n",
       "</style>\n",
       "<table border=\"1\" class=\"dataframe\">\n",
       "  <thead>\n",
       "    <tr style=\"text-align: right;\">\n",
       "      <th></th>\n",
       "      <th>lightduty</th>\n",
       "      <th>vehicles</th>\n",
       "      <th>year</th>\n",
       "      <th>month</th>\n",
       "      <th>day</th>\n",
       "      <th>modelyear_2007</th>\n",
       "      <th>modelyear_2008</th>\n",
       "      <th>modelyear_2009</th>\n",
       "      <th>modelyear_2010</th>\n",
       "      <th>modelyear_2011</th>\n",
       "      <th>...</th>\n",
       "      <th>make_Type_P</th>\n",
       "      <th>make_Type_Q</th>\n",
       "      <th>make_Type_R</th>\n",
       "      <th>make_Type_S</th>\n",
       "      <th>make_Type_T</th>\n",
       "      <th>make_Type_U</th>\n",
       "      <th>make_Type_V</th>\n",
       "      <th>make_Type_W</th>\n",
       "      <th>make_Type_X</th>\n",
       "      <th>make_Type_Y</th>\n",
       "    </tr>\n",
       "  </thead>\n",
       "  <tbody>\n",
       "    <tr>\n",
       "      <th>0</th>\n",
       "      <td>1</td>\n",
       "      <td>1.0</td>\n",
       "      <td>2018</td>\n",
       "      <td>10</td>\n",
       "      <td>1</td>\n",
       "      <td>False</td>\n",
       "      <td>False</td>\n",
       "      <td>False</td>\n",
       "      <td>False</td>\n",
       "      <td>False</td>\n",
       "      <td>...</td>\n",
       "      <td>False</td>\n",
       "      <td>False</td>\n",
       "      <td>False</td>\n",
       "      <td>False</td>\n",
       "      <td>False</td>\n",
       "      <td>False</td>\n",
       "      <td>False</td>\n",
       "      <td>False</td>\n",
       "      <td>False</td>\n",
       "      <td>False</td>\n",
       "    </tr>\n",
       "    <tr>\n",
       "      <th>1</th>\n",
       "      <td>1</td>\n",
       "      <td>1.0</td>\n",
       "      <td>2018</td>\n",
       "      <td>10</td>\n",
       "      <td>1</td>\n",
       "      <td>False</td>\n",
       "      <td>False</td>\n",
       "      <td>False</td>\n",
       "      <td>False</td>\n",
       "      <td>False</td>\n",
       "      <td>...</td>\n",
       "      <td>False</td>\n",
       "      <td>False</td>\n",
       "      <td>False</td>\n",
       "      <td>False</td>\n",
       "      <td>False</td>\n",
       "      <td>False</td>\n",
       "      <td>False</td>\n",
       "      <td>False</td>\n",
       "      <td>False</td>\n",
       "      <td>False</td>\n",
       "    </tr>\n",
       "    <tr>\n",
       "      <th>3</th>\n",
       "      <td>1</td>\n",
       "      <td>1.0</td>\n",
       "      <td>2018</td>\n",
       "      <td>10</td>\n",
       "      <td>1</td>\n",
       "      <td>False</td>\n",
       "      <td>False</td>\n",
       "      <td>False</td>\n",
       "      <td>False</td>\n",
       "      <td>False</td>\n",
       "      <td>...</td>\n",
       "      <td>False</td>\n",
       "      <td>False</td>\n",
       "      <td>False</td>\n",
       "      <td>False</td>\n",
       "      <td>False</td>\n",
       "      <td>False</td>\n",
       "      <td>False</td>\n",
       "      <td>False</td>\n",
       "      <td>False</td>\n",
       "      <td>False</td>\n",
       "    </tr>\n",
       "    <tr>\n",
       "      <th>16</th>\n",
       "      <td>0</td>\n",
       "      <td>16.0</td>\n",
       "      <td>2018</td>\n",
       "      <td>10</td>\n",
       "      <td>9</td>\n",
       "      <td>False</td>\n",
       "      <td>False</td>\n",
       "      <td>False</td>\n",
       "      <td>False</td>\n",
       "      <td>False</td>\n",
       "      <td>...</td>\n",
       "      <td>False</td>\n",
       "      <td>False</td>\n",
       "      <td>False</td>\n",
       "      <td>False</td>\n",
       "      <td>False</td>\n",
       "      <td>False</td>\n",
       "      <td>False</td>\n",
       "      <td>False</td>\n",
       "      <td>False</td>\n",
       "      <td>False</td>\n",
       "    </tr>\n",
       "    <tr>\n",
       "      <th>17</th>\n",
       "      <td>0</td>\n",
       "      <td>23.0</td>\n",
       "      <td>2018</td>\n",
       "      <td>10</td>\n",
       "      <td>10</td>\n",
       "      <td>False</td>\n",
       "      <td>False</td>\n",
       "      <td>False</td>\n",
       "      <td>False</td>\n",
       "      <td>False</td>\n",
       "      <td>...</td>\n",
       "      <td>False</td>\n",
       "      <td>False</td>\n",
       "      <td>False</td>\n",
       "      <td>False</td>\n",
       "      <td>False</td>\n",
       "      <td>False</td>\n",
       "      <td>False</td>\n",
       "      <td>False</td>\n",
       "      <td>False</td>\n",
       "      <td>False</td>\n",
       "    </tr>\n",
       "  </tbody>\n",
       "</table>\n",
       "<p>5 rows × 53 columns</p>\n",
       "</div>"
      ],
      "text/plain": [
       "   lightduty  vehicles  year  month  day  modelyear_2007  modelyear_2008  \\\n",
       "0          1       1.0  2018     10    1           False           False   \n",
       "1          1       1.0  2018     10    1           False           False   \n",
       "3          1       1.0  2018     10    1           False           False   \n",
       "16         0      16.0  2018     10    9           False           False   \n",
       "17         0      23.0  2018     10   10           False           False   \n",
       "\n",
       "    modelyear_2009  modelyear_2010  modelyear_2011  ...  make_Type_P  \\\n",
       "0            False           False           False  ...        False   \n",
       "1            False           False           False  ...        False   \n",
       "3            False           False           False  ...        False   \n",
       "16           False           False           False  ...        False   \n",
       "17           False           False           False  ...        False   \n",
       "\n",
       "    make_Type_Q  make_Type_R  make_Type_S  make_Type_T  make_Type_U  \\\n",
       "0         False        False        False        False        False   \n",
       "1         False        False        False        False        False   \n",
       "3         False        False        False        False        False   \n",
       "16        False        False        False        False        False   \n",
       "17        False        False        False        False        False   \n",
       "\n",
       "    make_Type_V  make_Type_W  make_Type_X  make_Type_Y  \n",
       "0         False        False        False        False  \n",
       "1         False        False        False        False  \n",
       "3         False        False        False        False  \n",
       "16        False        False        False        False  \n",
       "17        False        False        False        False  \n",
       "\n",
       "[5 rows x 53 columns]"
      ]
     },
     "execution_count": 127,
     "metadata": {},
     "output_type": "execute_result"
    }
   ],
   "source": [
    "df.head()"
   ]
  },
  {
   "cell_type": "markdown",
   "metadata": {},
   "source": [
    "#### Data Quality Issue #5 (Temporal Feature Columns):\n",
    "As it stands, we have day, month and year features. What we want to do now is convert the month and day columns into meaningful representations.\n",
    "\n",
    "This is something that we call feature engineering where we take 1 or more features and create new features that would (ideally) be more meaningful to our model than the original features would be in their current state.\n",
    "\n",
    "Before we do this, let's get an idea of what our data looks like (for the \"day\" and \"month\" value)."
   ]
  },
  {
   "cell_type": "code",
   "execution_count": 128,
   "metadata": {},
   "outputs": [
    {
     "name": "stdout",
     "output_type": "stream",
     "text": [
      "Unique values of month: [10 11 12  1  2  3]\n",
      "Unique values of day: [ 1  9 10 11 12 13 14 15 16 17 18 19 20 21 22 23 24 25 26 27 28 29 30 31\n",
      "  2  3  4  5  6  7  8]\n",
      "Unique values of year: [2018 2019]\n"
     ]
    }
   ],
   "source": [
    "print ('Unique values of month:', df.month.unique())\n",
    "print ('Unique values of day:', df.day.unique())\n",
    "print ('Unique values of year:', df.year.unique())"
   ]
  },
  {
   "cell_type": "markdown",
   "metadata": {},
   "source": [
    "We're now going to map each temporal value into a circle so that the lowest value is right next to the largest value (like a clock)."
   ]
  },
  {
   "cell_type": "code",
   "execution_count": 129,
   "metadata": {},
   "outputs": [],
   "source": [
    "df['day_sin'] = np.sin(df.day*(2.*np.pi/31))\n",
    "df['day_cos'] = np.cos(df.day*(2.*np.pi/31))\n",
    "df['month_sin'] = np.sin((df.month-1)*(2.*np.pi/12))\n",
    "df['month_cos'] = np.cos((df.month-1)*(2.*np.pi/12))"
   ]
  },
  {
   "cell_type": "markdown",
   "metadata": {},
   "source": [
    "Now we need to drop the original \"day\" and \"month\" columns."
   ]
  },
  {
   "cell_type": "code",
   "execution_count": 130,
   "metadata": {},
   "outputs": [],
   "source": [
    "df = df.drop(['month','day','year'], axis=1)"
   ]
  },
  {
   "cell_type": "markdown",
   "metadata": {},
   "source": [
    "Let's take a look to ensure all this has happened."
   ]
  },
  {
   "cell_type": "code",
   "execution_count": 131,
   "metadata": {},
   "outputs": [
    {
     "data": {
      "text/html": [
       "<div>\n",
       "<style scoped>\n",
       "    .dataframe tbody tr th:only-of-type {\n",
       "        vertical-align: middle;\n",
       "    }\n",
       "\n",
       "    .dataframe tbody tr th {\n",
       "        vertical-align: top;\n",
       "    }\n",
       "\n",
       "    .dataframe thead th {\n",
       "        text-align: right;\n",
       "    }\n",
       "</style>\n",
       "<table border=\"1\" class=\"dataframe\">\n",
       "  <thead>\n",
       "    <tr style=\"text-align: right;\">\n",
       "      <th></th>\n",
       "      <th>lightduty</th>\n",
       "      <th>vehicles</th>\n",
       "      <th>modelyear_2007</th>\n",
       "      <th>modelyear_2008</th>\n",
       "      <th>modelyear_2009</th>\n",
       "      <th>modelyear_2010</th>\n",
       "      <th>modelyear_2011</th>\n",
       "      <th>modelyear_2012</th>\n",
       "      <th>modelyear_2013</th>\n",
       "      <th>modelyear_2014</th>\n",
       "      <th>...</th>\n",
       "      <th>make_Type_T</th>\n",
       "      <th>make_Type_U</th>\n",
       "      <th>make_Type_V</th>\n",
       "      <th>make_Type_W</th>\n",
       "      <th>make_Type_X</th>\n",
       "      <th>make_Type_Y</th>\n",
       "      <th>day_sin</th>\n",
       "      <th>day_cos</th>\n",
       "      <th>month_sin</th>\n",
       "      <th>month_cos</th>\n",
       "    </tr>\n",
       "  </thead>\n",
       "  <tbody>\n",
       "    <tr>\n",
       "      <th>495</th>\n",
       "      <td>1</td>\n",
       "      <td>58.0</td>\n",
       "      <td>False</td>\n",
       "      <td>False</td>\n",
       "      <td>False</td>\n",
       "      <td>True</td>\n",
       "      <td>False</td>\n",
       "      <td>False</td>\n",
       "      <td>False</td>\n",
       "      <td>False</td>\n",
       "      <td>...</td>\n",
       "      <td>False</td>\n",
       "      <td>False</td>\n",
       "      <td>False</td>\n",
       "      <td>False</td>\n",
       "      <td>False</td>\n",
       "      <td>False</td>\n",
       "      <td>0.724793</td>\n",
       "      <td>0.688967</td>\n",
       "      <td>-0.5</td>\n",
       "      <td>0.866025</td>\n",
       "    </tr>\n",
       "    <tr>\n",
       "      <th>496</th>\n",
       "      <td>1</td>\n",
       "      <td>45.0</td>\n",
       "      <td>False</td>\n",
       "      <td>False</td>\n",
       "      <td>False</td>\n",
       "      <td>True</td>\n",
       "      <td>False</td>\n",
       "      <td>False</td>\n",
       "      <td>False</td>\n",
       "      <td>False</td>\n",
       "      <td>...</td>\n",
       "      <td>False</td>\n",
       "      <td>False</td>\n",
       "      <td>False</td>\n",
       "      <td>False</td>\n",
       "      <td>False</td>\n",
       "      <td>False</td>\n",
       "      <td>0.848644</td>\n",
       "      <td>0.528964</td>\n",
       "      <td>-0.5</td>\n",
       "      <td>0.866025</td>\n",
       "    </tr>\n",
       "    <tr>\n",
       "      <th>497</th>\n",
       "      <td>1</td>\n",
       "      <td>82.0</td>\n",
       "      <td>False</td>\n",
       "      <td>False</td>\n",
       "      <td>False</td>\n",
       "      <td>True</td>\n",
       "      <td>False</td>\n",
       "      <td>False</td>\n",
       "      <td>False</td>\n",
       "      <td>False</td>\n",
       "      <td>...</td>\n",
       "      <td>False</td>\n",
       "      <td>False</td>\n",
       "      <td>False</td>\n",
       "      <td>False</td>\n",
       "      <td>False</td>\n",
       "      <td>False</td>\n",
       "      <td>0.937752</td>\n",
       "      <td>0.347305</td>\n",
       "      <td>-0.5</td>\n",
       "      <td>0.866025</td>\n",
       "    </tr>\n",
       "    <tr>\n",
       "      <th>498</th>\n",
       "      <td>1</td>\n",
       "      <td>12.0</td>\n",
       "      <td>False</td>\n",
       "      <td>False</td>\n",
       "      <td>False</td>\n",
       "      <td>True</td>\n",
       "      <td>False</td>\n",
       "      <td>False</td>\n",
       "      <td>False</td>\n",
       "      <td>False</td>\n",
       "      <td>...</td>\n",
       "      <td>False</td>\n",
       "      <td>False</td>\n",
       "      <td>False</td>\n",
       "      <td>False</td>\n",
       "      <td>False</td>\n",
       "      <td>False</td>\n",
       "      <td>0.988468</td>\n",
       "      <td>0.151428</td>\n",
       "      <td>-0.5</td>\n",
       "      <td>0.866025</td>\n",
       "    </tr>\n",
       "  </tbody>\n",
       "</table>\n",
       "<p>4 rows × 54 columns</p>\n",
       "</div>"
      ],
      "text/plain": [
       "    lightduty  vehicles  modelyear_2007  modelyear_2008  modelyear_2009  \\\n",
       "495         1      58.0           False           False           False   \n",
       "496         1      45.0           False           False           False   \n",
       "497         1      82.0           False           False           False   \n",
       "498         1      12.0           False           False           False   \n",
       "\n",
       "     modelyear_2010  modelyear_2011  modelyear_2012  modelyear_2013  \\\n",
       "495            True           False           False           False   \n",
       "496            True           False           False           False   \n",
       "497            True           False           False           False   \n",
       "498            True           False           False           False   \n",
       "\n",
       "     modelyear_2014  ...  make_Type_T  make_Type_U  make_Type_V  make_Type_W  \\\n",
       "495           False  ...        False        False        False        False   \n",
       "496           False  ...        False        False        False        False   \n",
       "497           False  ...        False        False        False        False   \n",
       "498           False  ...        False        False        False        False   \n",
       "\n",
       "     make_Type_X  make_Type_Y   day_sin   day_cos  month_sin  month_cos  \n",
       "495        False        False  0.724793  0.688967       -0.5   0.866025  \n",
       "496        False        False  0.848644  0.528964       -0.5   0.866025  \n",
       "497        False        False  0.937752  0.347305       -0.5   0.866025  \n",
       "498        False        False  0.988468  0.151428       -0.5   0.866025  \n",
       "\n",
       "[4 rows x 54 columns]"
      ]
     },
     "execution_count": 131,
     "metadata": {},
     "output_type": "execute_result"
    }
   ],
   "source": [
    "df.tail(4)"
   ]
  }
 ],
 "metadata": {
  "colab": {
   "collapsed_sections": [],
   "name": "Basic Feature Engineering in Keras.ipynb",
   "provenance": [],
   "toc_visible": true
  },
  "kernelspec": {
   "display_name": "Python 3 (ipykernel)",
   "language": "python",
   "name": "python3"
  },
  "language_info": {
   "codemirror_mode": {
    "name": "ipython",
    "version": 3
   },
   "file_extension": ".py",
   "mimetype": "text/x-python",
   "name": "python",
   "nbconvert_exporter": "python",
   "pygments_lexer": "ipython3",
   "version": "3.11.7"
  }
 },
 "nbformat": 4,
 "nbformat_minor": 4
}
